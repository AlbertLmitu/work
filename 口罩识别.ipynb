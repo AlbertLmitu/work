{
 "cells": [
  {
   "cell_type": "code",
   "execution_count": 1,
   "id": "7ab75615",
   "metadata": {},
   "outputs": [],
   "source": [
    "import os\n",
    "import glob\n",
    "import tensorflow as tf\n",
    "from tensorflow import keras\n",
    "from tensorflow.keras import layers\n",
    "from tensorflow.keras.models import load_model\n",
    "import pandas as pd\n",
    "import matplotlib.pyplot as plt \n",
    "import cv2\n",
    "import tensorflow as tf\n",
    "from tensorflow import keras\n",
    "from tensorflow.keras.models import load_model"
   ]
  },
  {
   "cell_type": "code",
   "execution_count": 23,
   "id": "a7b65d13",
   "metadata": {},
   "outputs": [],
   "source": [
    "resize = 224     #  重设大小\n",
    "total_num = 200   \n",
    "train_num = 160\n",
    "epochs = 3      #训练轮次\n",
    "batch_size = 4"
   ]
  },
  {
   "cell_type": "code",
   "execution_count": 24,
   "id": "8ac4a3e0",
   "metadata": {
    "scrolled": true
   },
   "outputs": [
    {
     "name": "stdout",
     "output_type": "stream",
     "text": [
      "#mask:    2544\n",
      "#nomask:  2544\n",
      "4580\n",
      "508\n"
     ]
    }
   ],
   "source": [
    "dir_data = 'D:/文档类/机器学习课设/mask_classify/train'   #  数据路径\n",
    "dir_mask = os.path.join(dir_data, 'with_mask')   \n",
    "dir_nomask = os.path.join(dir_data, 'without_mask')\n",
    "\n",
    "assert os.path.exists(dir_mask), 'Could not find ' + dir_mask#确认路径是否存在\n",
    "assert os.path.exists(dir_nomask), 'Could not find ' + dir_nomask\n",
    "\n",
    "fpath_mask = [os.path.abspath(fp) for fp in glob.glob(os.path.join(dir_mask, '*.jpg'))]\n",
    "fpath_nomask = [os.path.abspath(fp) for fp in glob.glob(os.path.join(dir_nomask, '*.jpg'))]\n",
    "\n",
    "num_mask = len(fpath_mask) # 样本量\n",
    "num_nomask = len(fpath_nomask)\n",
    "\n",
    "label_mask = [0] * num_mask  # 标签\n",
    "label_nomask = [1] * num_nomask\n",
    "\n",
    "print('#mask:   ', num_mask)\n",
    "print('#nomask: ', num_nomask)\n",
    "\n",
    "RATIO_TEST = 0.1 # 测试样本比列\n",
    "\n",
    "num_mask_test = int(num_mask * RATIO_TEST)\n",
    "num_nomask_test = int(num_nomask * RATIO_TEST)\n",
    "\n",
    "# train\n",
    "fpath_train = fpath_mask[num_mask_test:] + fpath_nomask[num_nomask_test:]#训练样本\n",
    "label_train = label_mask[num_mask_test:] + label_nomask[num_nomask_test:]\n",
    "# test\n",
    "fpath_test = fpath_mask[:num_mask_test] + fpath_nomask[:num_nomask_test]#测试样本\n",
    "label_test = label_mask[:num_mask_test] + label_nomask[:num_nomask_test]\n",
    "\n",
    "num_train = len(fpath_train)\n",
    "num_test = len(fpath_test)\n",
    "\n",
    "print(num_train)\n",
    "print(num_test)\n",
    "\n",
    "def preproc(fpath, label): # 读取图片,归一化处理\n",
    "    image_byte = tf.io.read_file(fpath)\n",
    "    image = tf.io.decode_image(image_byte)\n",
    "    image_resize = tf.image.resize_with_pad(image, 224, 224)\n",
    "    image_norm = tf.cast(image_resize, tf.float32) / 255.\n",
    "    \n",
    "    label_onehot = tf.one_hot(label, 2)         #将input转化为one-hot类型数据输出\n",
    "    \n",
    "    return image_norm, label_onehot\n",
    "\n",
    "#数据预处理\n",
    "dataset_train = tf.data.Dataset.from_tensor_slices((fpath_train, label_train)) \n",
    "dataset_train = dataset_train.shuffle(num_train).repeat()#随机排序样本\n",
    "dataset_train = dataset_train.map(preproc, num_parallel_calls=tf.data.experimental.AUTOTUNE)#读取样本图片,归一化处理\n",
    "dataset_train = dataset_train.batch(batch_size).prefetch(tf.data.experimental.AUTOTUNE)#抓取一定量的样本图片进行预读取,然后调度样本\n",
    "\n",
    "dataset_test = tf.data.Dataset.from_tensor_slices((fpath_test, label_test))\n",
    "dataset_test = dataset_test.shuffle(num_test).repeat()\n",
    "dataset_test = dataset_test.map(preproc, num_parallel_calls=tf.data.experimental.AUTOTUNE)\n",
    "dataset_test = dataset_test.batch(batch_size).prefetch(tf.data.experimental.AUTOTUNE)\n"
   ]
  },
  {
   "cell_type": "code",
   "execution_count": 25,
   "id": "17aa805d",
   "metadata": {
    "scrolled": true
   },
   "outputs": [
    {
     "name": "stdout",
     "output_type": "stream",
     "text": [
      "Epoch 1/3\n",
      "1145/1145 [==============================] - 231s 201ms/step - loss: 0.3980 - accuracy: 0.8275 - val_loss: 0.3479 - val_accuracy: 0.8150\n",
      "Epoch 2/3\n",
      "1145/1145 [==============================] - 228s 199ms/step - loss: 0.2235 - accuracy: 0.9162 - val_loss: 0.2730 - val_accuracy: 0.8642\n",
      "Epoch 3/3\n",
      "1145/1145 [==============================] - 229s 200ms/step - loss: 0.1911 - accuracy: 0.9299 - val_loss: 0.2205 - val_accuracy: 0.9134\n",
      "1145/1145 [==============================] - 35s 31ms/step - loss: 0.1637 - accuracy: 0.9343\n",
      "[0.16372862458229065, 0.9342795014381409]\n",
      "127/127 [==============================] - 4s 32ms/step - loss: 0.2205 - accuracy: 0.9134\n",
      "[0.2205280065536499, 0.913385808467865]\n"
     ]
    },
    {
     "name": "stderr",
     "output_type": "stream",
     "text": [
      "C:\\Users\\86173\\AppData\\Roaming\\Python\\Python39\\site-packages\\keras\\src\\engine\\training.py:3079: UserWarning: You are saving your model as an HDF5 file via `model.save()`. This file format is considered legacy. We recommend using instead the native Keras format, e.g. `model.save('my_model.keras')`.\n",
      "  saving_api.save_model(\n"
     ]
    }
   ],
   "source": [
    "model = keras.Sequential(name='Alexnet')   # 搭建模型(五层卷积层,三层全连接层)\n",
    "\n",
    "\n",
    "model.add(layers.Conv2D(filters=96, kernel_size=(11,11),\n",
    "                 strides=(4,4), padding='valid',\n",
    "                 input_shape=(resize,resize,3),\n",
    "                 activation='relu'))             \n",
    "#卷积层,功能是对输入数据进行特征提取，其内部包含多个卷积核，组成卷积核的每个元素都对应一个权重系数和一个偏差量\n",
    "\n",
    "model.add(layers.BatchNormalization())\n",
    "#批量标准化层,其应用了一种转换，使得数据的均值趋于0，标准差趋于1。\n",
    "\n",
    "model.add(layers.MaxPooling2D(pool_size=(3,3), \n",
    "                       strides=(2,2), \n",
    "                       padding='valid'))\n",
    "#池化层,功能是对输入的特征图进行压缩，一方面使特征图变小，简化网络计算复杂度；一方面进行特征压缩，提取主要特征。\n",
    "\n",
    "model.add(layers.Conv2D(filters=256, kernel_size=(5,5), \n",
    "                 strides=(1,1), padding='same', \n",
    "                 activation='relu'))\n",
    "model.add(layers.BatchNormalization())\n",
    "model.add(layers.MaxPooling2D(pool_size=(3,3), \n",
    "                       strides=(2,2), \n",
    "                       padding='valid'))\n",
    "\n",
    "model.add(layers.Conv2D(filters=384, kernel_size=(3,3), \n",
    "                 strides=(1,1), padding='same', \n",
    "                 activation='relu'))\n",
    "model.add(layers.Conv2D(filters=384, kernel_size=(3,3), \n",
    "                 strides=(1,1), padding='same', \n",
    "                 activation='relu'))\n",
    "model.add(layers.Conv2D(filters=256, kernel_size=(3,3), \n",
    "                 strides=(1,1), padding='same', \n",
    "                 activation='relu'))\n",
    "model.add(layers.MaxPooling2D(pool_size=(3,3), \n",
    "                       strides=(2,2), padding='valid'))\n",
    "\n",
    "model.add(layers.Flatten())\n",
    "#Flatten层,功能是将输入“压平”，即把多维的输入一维化\n",
    "model.add(layers.Dense(4096, activation='relu'))\n",
    "#全连接层（Dense）,在整个卷积神经网络中起到”分类器”作用,起到”将学到的分布式特征表示”映射到样本标记空间的作用。\n",
    "model.add(layers.Dropout(0.5))\n",
    "#Dropout层,功能是在标准的bp网络的的结构上，使bp网的隐层激活值，以一定的比例v变为0，即按照一定比例v，随机地让一部分隐层节点失效。\n",
    "\n",
    "model.add(layers.Dense(4096, activation='relu'))\n",
    "model.add(layers.Dropout(0.5))\n",
    "\n",
    "model.add(layers.Dense(1000, activation='relu'))\n",
    "model.add(layers.Dropout(0.5))\n",
    "\n",
    "# Output Layer\n",
    "model.add(layers.Dense(2, activation='softmax'))\n",
    "\n",
    "# Training\n",
    "model.compile(loss='categorical_crossentropy', # loss\n",
    "              optimizer='sgd',\n",
    "              metrics=['accuracy'])\n",
    "\n",
    "\n",
    "history = model.fit(dataset_train,\n",
    "          steps_per_epoch = num_train//batch_size,\n",
    "          epochs = epochs,\n",
    "          validation_data = dataset_test,\n",
    "          validation_steps = num_test//batch_size,\n",
    "          verbose = 1)                      #verbose是日志显示,值为1,显示进度条\n",
    "\n",
    "\n",
    "# scores = model.evaluate(train_data, train_label, verbose=1)\n",
    "scores = model.evaluate(dataset_train, steps=num_train//batch_size, verbose=1)\n",
    "print(scores)\n",
    "\n",
    "# scores = model.evaluate(test_data, test_label, verbose=1)\n",
    "scores = model.evaluate(dataset_test, steps=num_test//batch_size, verbose=1)\n",
    "print(scores)\n",
    "\n",
    "model.save('D:/model/mask_model_2.h5') \n",
    "\n",
    "# Record loss and acc\n",
    "history_dict = history.history\n",
    "train_loss = history_dict['loss']\n",
    "train_accuracy = history_dict['accuracy']\n",
    "val_loss = history_dict['val_loss']\n",
    "val_accuracy = history_dict['val_accuracy']\n"
   ]
  },
  {
   "cell_type": "code",
   "execution_count": 26,
   "id": "711a661f",
   "metadata": {
    "scrolled": false
   },
   "outputs": [
    {
     "data": {
      "text/html": [
       "<div>\n",
       "<style scoped>\n",
       "    .dataframe tbody tr th:only-of-type {\n",
       "        vertical-align: middle;\n",
       "    }\n",
       "\n",
       "    .dataframe tbody tr th {\n",
       "        vertical-align: top;\n",
       "    }\n",
       "\n",
       "    .dataframe thead th {\n",
       "        text-align: right;\n",
       "    }\n",
       "</style>\n",
       "<table border=\"1\" class=\"dataframe\">\n",
       "  <thead>\n",
       "    <tr style=\"text-align: right;\">\n",
       "      <th></th>\n",
       "      <th>loss</th>\n",
       "      <th>accuracy</th>\n",
       "      <th>val_loss</th>\n",
       "      <th>val_accuracy</th>\n",
       "      <th>epoch</th>\n",
       "    </tr>\n",
       "  </thead>\n",
       "  <tbody>\n",
       "    <tr>\n",
       "      <th>0</th>\n",
       "      <td>0.398002</td>\n",
       "      <td>0.827511</td>\n",
       "      <td>0.347888</td>\n",
       "      <td>0.814961</td>\n",
       "      <td>0</td>\n",
       "    </tr>\n",
       "    <tr>\n",
       "      <th>1</th>\n",
       "      <td>0.223520</td>\n",
       "      <td>0.916157</td>\n",
       "      <td>0.272956</td>\n",
       "      <td>0.864173</td>\n",
       "      <td>1</td>\n",
       "    </tr>\n",
       "    <tr>\n",
       "      <th>2</th>\n",
       "      <td>0.191056</td>\n",
       "      <td>0.929913</td>\n",
       "      <td>0.220528</td>\n",
       "      <td>0.913386</td>\n",
       "      <td>2</td>\n",
       "    </tr>\n",
       "  </tbody>\n",
       "</table>\n",
       "</div>"
      ],
      "text/plain": [
       "       loss  accuracy  val_loss  val_accuracy  epoch\n",
       "0  0.398002  0.827511  0.347888      0.814961      0\n",
       "1  0.223520  0.916157  0.272956      0.864173      1\n",
       "2  0.191056  0.929913  0.220528      0.913386      2"
      ]
     },
     "execution_count": 26,
     "metadata": {},
     "output_type": "execute_result"
    }
   ],
   "source": [
    "import pandas as pd\n",
    "import matplotlib.pyplot as plt \n",
    "hist = pd.DataFrame(history.history)\n",
    "hist['epoch'] = history.epoch\n",
    "hist.tail()"
   ]
  },
  {
   "cell_type": "code",
   "execution_count": 27,
   "id": "26ec541a",
   "metadata": {
    "scrolled": true
   },
   "outputs": [
    {
     "data": {
      "image/png": "[encoded data removed]",
      "text/plain": [
       "<Figure size 640x480 with 1 Axes>"
      ]
     },
     "metadata": {},
     "output_type": "display_data"
    }
   ],
   "source": [
    "def plot_history(history):\n",
    "  hist = pd.DataFrame(history.history)\n",
    "  hist['epoch'] = history.epoch\n",
    "\n",
    "  plt.figure()\n",
    "  plt.xlabel('Epoch')\n",
    "  plt.ylabel('Mean Abs Error [MPG]')\n",
    "  plt.plot(hist['epoch'], hist['accuracy'],\n",
    "           label='Train Error')\n",
    "  plt.plot(hist['epoch'], hist['val_accuracy'],\n",
    "           label = 'Val Error')\n",
    "  plt.ylim([0,5])\n",
    "  plt.legend()\n",
    "\n",
    "\n",
    "  plt.show()\n",
    "\n",
    "\n",
    "plot_history(history)                                                                                          \n"
   ]
  },
  {
   "cell_type": "code",
   "execution_count": null,
   "id": "9b1a912f",
   "metadata": {},
   "outputs": [],
   "source": []
  },
  {
   "cell_type": "code",
   "execution_count": 32,
   "id": "f716a003",
   "metadata": {},
   "outputs": [
    {
     "name": "stdout",
     "output_type": "stream",
     "text": [
      "1/1 [==============================] - 0s 27ms/step\n",
      "没戴口罩了\n"
     ]
    }
   ],
   "source": [
    "import cv2\n",
    "import tensorflow as tf\n",
    "from tensorflow import keras\n",
    "from tensorflow.keras.models import load_model\n",
    "resize = 224\n",
    "label = ('带口罩!', '没戴口罩了')\n",
    "image = cv2.resize(cv2.imread(                                                                                                                                                                                                                                                                                                                                                                    work/4.jpg'),(resize,resize))\n",
    "image = image.astype(\"float\") / 255.0\n",
    "image = image.reshape((1, image.shape[0], image.shape[1], image.shape[2]))\n",
    "\n",
    "predict = model.predict(image)\n",
    "i = predict.argmax(axis=1)[0]\n",
    "print(label[i])\n",
    "\n"
   ]
  },
  {
   "cell_type": "code",
   "execution_count": null,
   "id": "beb5492e",
   "metadata": {},
   "outputs": [],
   "source": []
  }
 ],
 "metadata": {
  "kernelspec": {
   "display_name": "Python 3 (ipykernel)",
   "language": "python",
   "name": "python3"
  },
  "language_info": {
   "codemirror_mode": {
    "name": "ipython",
    "version": 3
   },
   "file_extension": ".py",
   "mimetype": "text/x-python",
   "name": "python",
   "nbconvert_exporter": "python",
   "pygments_lexer": "ipython3",
   "version": "3.9.13"
  }
 },
 "nbformat": 4,
 "nbformat_minor": 5
}
